{
 "cells": [
  {
   "cell_type": "code",
   "execution_count": 1,
   "metadata": {},
   "outputs": [],
   "source": [
    "from math import *\n",
    "from cmath import *\n",
    "from numpy import linalg\n",
    "import numpy as np\n",
    "import matplotlib.pyplot as plt"
   ]
  },
  {
   "cell_type": "code",
   "execution_count": 2,
   "metadata": {},
   "outputs": [
    {
     "name": "stdout",
     "output_type": "stream",
     "text": [
      "L escolhido 0.02155769864730591\n"
     ]
    }
   ],
   "source": [
    "def encontra_L(f, C):\n",
    "    # Retorna L (mH)\n",
    "    return (1/((2*pi*f)**2*C))*1000\n",
    "\n",
    "C = 0.47e-6\n",
    "f = 50000\n",
    "L = encontra_L(f, C)\n",
    "print(f'L escolhido {L}')"
   ]
  },
  {
   "cell_type": "code",
   "execution_count": 3,
   "metadata": {},
   "outputs": [],
   "source": [
    "#implemente seu código aqui\n",
    "C1 = C2 = C\n",
    "L1 = L2 = L\n",
    "V = 9\n",
    "R1 = R2 = 0.04\n",
    "Rc = 10 #Sendo chutado\n",
    "k = 1 #Sendo chutado\n",
    "w = 2*pi*f\n",
    "M = sqrt(L1*L2)\n",
    "XL1 = L1*w*1j\n",
    "XL2 = L2*w*1j\n",
    "XM = M*w*1j\n",
    "\n",
    "XC1 = 1/(C1*w*1j)\n",
    "XC2 = 1/(C2*w*1j)"
   ]
  },
  {
   "cell_type": "code",
   "execution_count": 4,
   "metadata": {},
   "outputs": [
    {
     "name": "stdout",
     "output_type": "stream",
     "text": [
      "(0.13141193881293278+0.46467420416540184j)\n",
      "(0.13128327133020412+0.4650547538168071j)\n"
     ]
    }
   ],
   "source": [
    "def CalcularTransformador(v1, Rc, XM) -> tuple[complex, complex]:\n",
    "    Z=np.array([[R1+XL1+XC1, -XM],[-XM, XL2+R2+Rc/((Rc/XC2)+1)]])\n",
    "    V=np.array([v1,0])\n",
    "    I=np.dot(linalg.inv(Z),V)\n",
    "    return I[0], I[1]\n",
    "\n",
    "i1, i2 = CalcularTransformador((2/pi)*V, 10, XM)\n",
    "print(i1)\n",
    "print(i2)"
   ]
  },
  {
   "cell_type": "code",
   "execution_count": 8,
   "metadata": {},
   "outputs": [
    {
     "data": {
      "image/png": "[encoded data removed]",
      "text/plain": [
       "<Figure size 640x480 with 1 Axes>"
      ]
     },
     "metadata": {},
     "output_type": "display_data"
    }
   ],
   "source": [
    "# Melhor K\n",
    "\n",
    "lista_k = np.linspace(0,1,100)\n",
    "lista_V2 = []\n",
    "\n",
    "for k in lista_k:\n",
    "    novo_XM = k*XM\n",
    "    i1, i2 = CalcularTransformador((2/pi)*V, 10, novo_XM)\n",
    "    i4 = i2/((Rc/XC2)+1)\n",
    "    lista_V2.append(abs(Rc*i4))\n",
    "pico_idx = lista_V2.index(max(lista_V2))\n",
    "k_top = lista_k[pico_idx]\n",
    "plt.plot(lista_k, lista_V2)\n",
    "plt.plot(k_top, max(lista_V2), '*r',label=f'k de pico = {k_top:.3f}')\n",
    "plt.legend()\n",
    "plt.show()\n",
    "\n",
    "\n"
   ]
  },
  {
   "cell_type": "code",
   "execution_count": null,
   "metadata": {},
   "outputs": [],
   "source": []
  }
 ],
 "metadata": {
  "kernelspec": {
   "display_name": "Python 3",
   "language": "python",
   "name": "python3"
  },
  "language_info": {
   "codemirror_mode": {
    "name": "ipython",
    "version": 3
   },
   "file_extension": ".py",
   "mimetype": "text/x-python",
   "name": "python",
   "nbconvert_exporter": "python",
   "pygments_lexer": "ipython3",
   "version": "3.11.4"
  }
 },
 "nbformat": 4,
 "nbformat_minor": 2
}
